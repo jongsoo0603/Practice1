{
 "cells": [
  {
   "cell_type": "code",
   "execution_count": 2,
   "metadata": {},
   "outputs": [],
   "source": [
    "import datetime  # 현재 날짜와 시간을 기록하기 위한 datetime 라이브러리\n",
    "import numpy as np  # 수학 및 배열 관련 작업을 위한 numpy 라이브러리\n",
    "import matplotlib.pyplot as plt  # 그래픽 시각화를 위한 matplotlib.pyplot 라이브러리\n",
    "from keras.layers import Input, Activation, Conv2D, Flatten, Dense, MaxPooling2D  # Keras에서 사용되는 레이어 모듈\n",
    "from keras.models import Model, load_model  # Keras에서 모델 구축 및 불러오기를 위한 모듈\n",
    "from keras.preprocessing.image import ImageDataGenerator  # 이미지 데이터를 증강하고 전처리하기 위한 모듈\n",
    "from keras.callbacks import ModelCheckpoint, ReduceLROnPlateau  # 모델 학습 중 사용되는 콜백 함수들\n",
    "\n",
    "# 시각화 스타일을 dark_background로 설정\n",
    "plt.style.use('dark_background')"
   ]
  },
  {
   "cell_type": "markdown",
   "metadata": {},
   "source": [
    "# Load Dataset"
   ]
  },
  {
   "cell_type": "markdown",
   "metadata": {},
   "source": [
    "내 눈"
   ]
  },
  {
   "cell_type": "code",
   "execution_count": 29,
   "metadata": {},
   "outputs": [
    {
     "name": "stdout",
     "output_type": "stream",
     "text": [
      "(1615, 26, 34) (1615, 1)\n",
      "(404, 26, 34) (404, 1)\n"
     ]
    }
   ],
   "source": [
    "# 'newDataset' 디렉토리에서 훈련 데이터와 레이블, 검증 데이터와 레이블을 불러옴\n",
    "x_train = np.load('dataset/eye/x_train.npy').astype(np.float32)  # 훈련 데이터 불러오기 및 데이터 타입을 float32로 변환\n",
    "y_train = np.load('dataset/eye/y_train.npy').astype(np.float32)  # 훈련 레이블 불러오기 및 데이터 타입을 float32로 변환\n",
    "x_val = np.load('dataset/eye/x_val.npy').astype(np.float32)  # 검증 데이터 불러오기 및 데이터 타입을 float32로 변환\n",
    "y_val = np.load('dataset/eye/y_val.npy').astype(np.float32)  # 검증 레이블 불러오기 및 데이터 타입을 float32로 변환\n",
    "\n",
    "# 불러온 데이터의 형태 출력\n",
    "print(x_train.shape, y_train.shape)  # 훈련 데이터의 형태 출력: (1615, 26, 34) - 1615개의 샘플, 각각의 샘플은 26x34 크기의 이미지\n",
    "print(x_val.shape, y_val.shape)  # 검증 데이터의 형태 출력: (404, 26, 34) - 404개의 샘플, 각각의 샘플은 26x34 크기의 이미지\n",
    "\n"
   ]
  },
  {
   "cell_type": "markdown",
   "metadata": {},
   "source": [
    "내 입"
   ]
  },
  {
   "cell_type": "code",
   "execution_count": 3,
   "metadata": {},
   "outputs": [
    {
     "name": "stdout",
     "output_type": "stream",
     "text": [
      "(1600, 10, 10) (1600, 1)\n",
      "(400, 10, 10) (400, 1)\n"
     ]
    }
   ],
   "source": [
    "# 'newDataset' 디렉토리에서 훈련 데이터와 레이블, 검증 데이터와 레이블을 불러옴\n",
    "x_train = np.load('dataset/lip/x_train.npy').astype(np.float32)  # 훈련 데이터 불러오기 및 데이터 타입을 float32로 변환\n",
    "y_train = np.load('dataset/lip/y_train.npy').astype(np.float32)  # 훈련 레이블 불러오기 및 데이터 타입을 float32로 변환\n",
    "x_val = np.load('dataset/lip/x_val.npy').astype(np.float32)  # 검증 데이터 불러오기 및 데이터 타입을 float32로 변환\n",
    "y_val = np.load('dataset/lip/y_val.npy').astype(np.float32)  # 검증 레이블 불러오기 및 데이터 타입을 float32로 변환\n",
    "\n",
    "# 불러온 데이터의 형태 출력\n",
    "print(x_train.shape, y_train.shape)  # 훈련 데이터의 형태 출력: (1600, 10, 10) - 1600개의 샘플, 각각의 샘플은 10x10 크기의 이미지\n",
    "print(x_val.shape, y_val.shape)  # 검증 데이터의 형태 출력: (400, 10, 10) - 400개의 샘플, 각각의 샘플은 10x10 크기의 이미지"
   ]
  },
  {
   "cell_type": "markdown",
   "metadata": {},
   "source": [
    "# Data Augmentation"
   ]
  },
  {
   "cell_type": "code",
   "execution_count": 9,
   "metadata": {},
   "outputs": [],
   "source": [
    "from tensorflow.keras.preprocessing.image import ImageDataGenerator\n",
    "\n",
    "# ImageDataGenerator 정의\n",
    "train_datagen = ImageDataGenerator(\n",
    "    rescale=1./255,\n",
    "    rotation_range=10,\n",
    "    width_shift_range=0.2,\n",
    "    height_shift_range=0.2,\n",
    "    shear_range=0.2\n",
    ")\n",
    "\n",
    "val_datagen = ImageDataGenerator(rescale=1./255)\n",
    "\n",
    "# 이미지 데이터의 shape을 (이미지 수, 높이, 너비, 채널)로 변경\n",
    "x_train = x_train.reshape(x_train.shape[0], 10, 10, 1)\n",
    "x_val = x_val.reshape(x_val.shape[0], 10, 10, 1)\n",
    "\n",
    "# flow 메서드를 사용하여 데이터 생성\n",
    "train_generator = train_datagen.flow(\n",
    "    x=x_train, y=y_train,\n",
    "    batch_size=32,\n",
    "    shuffle=True\n",
    ")\n",
    "\n",
    "val_generator = val_datagen.flow(\n",
    "    x=x_val, y=y_val,\n",
    "    batch_size=32,\n",
    "    shuffle=False\n",
    ")\n"
   ]
  },
  {
   "cell_type": "markdown",
   "metadata": {},
   "source": [
    "# Build Model"
   ]
  },
  {
   "cell_type": "code",
   "execution_count": 10,
   "metadata": {},
   "outputs": [
    {
     "name": "stdout",
     "output_type": "stream",
     "text": [
      "Model: \"model\"\n",
      "_________________________________________________________________\n",
      " Layer (type)                Output Shape              Param #   \n",
      "=================================================================\n",
      " input_1 (InputLayer)        [(None, 10, 10, 1)]       0         \n",
      "                                                                 \n",
      " conv2d (Conv2D)             (None, 10, 10, 32)        320       \n",
      "                                                                 \n",
      " max_pooling2d (MaxPooling2  (None, 5, 5, 32)          0         \n",
      " D)                                                              \n",
      "                                                                 \n",
      " conv2d_1 (Conv2D)           (None, 5, 5, 64)          18496     \n",
      "                                                                 \n",
      " max_pooling2d_1 (MaxPoolin  (None, 2, 2, 64)          0         \n",
      " g2D)                                                            \n",
      "                                                                 \n",
      " conv2d_2 (Conv2D)           (None, 2, 2, 128)         73856     \n",
      "                                                                 \n",
      " max_pooling2d_2 (MaxPoolin  (None, 1, 1, 128)         0         \n",
      " g2D)                                                            \n",
      "                                                                 \n",
      " flatten (Flatten)           (None, 128)               0         \n",
      "                                                                 \n",
      " dense (Dense)               (None, 512)               66048     \n",
      "                                                                 \n",
      " activation (Activation)     (None, 512)               0         \n",
      "                                                                 \n",
      " dense_1 (Dense)             (None, 1)                 513       \n",
      "                                                                 \n",
      " activation_1 (Activation)   (None, 1)                 0         \n",
      "                                                                 \n",
      "=================================================================\n",
      "Total params: 159233 (622.00 KB)\n",
      "Trainable params: 159233 (622.00 KB)\n",
      "Non-trainable params: 0 (0.00 Byte)\n",
      "_________________________________________________________________\n"
     ]
    }
   ],
   "source": [
    "inputs = Input(shape=(10, 10, 1))\n",
    "\n",
    "net = Conv2D(32, kernel_size=3, strides=1, padding='same', activation='relu')(inputs)\n",
    "net = MaxPooling2D(pool_size=2)(net)\n",
    "\n",
    "net = Conv2D(64, kernel_size=3, strides=1, padding='same', activation='relu')(net)\n",
    "net = MaxPooling2D(pool_size=2)(net)\n",
    "\n",
    "net = Conv2D(128, kernel_size=3, strides=1, padding='same', activation='relu')(net)\n",
    "net = MaxPooling2D(pool_size=2)(net)\n",
    "\n",
    "net = Flatten()(net)\n",
    "\n",
    "net = Dense(512)(net)\n",
    "net = Activation('relu')(net)\n",
    "net = Dense(1)(net)\n",
    "outputs = Activation('sigmoid')(net)\n",
    "\n",
    "model = Model(inputs=inputs, outputs=outputs)\n",
    "\n",
    "model.compile(optimizer='adam', loss='binary_crossentropy', metrics=['acc'])\n",
    "\n",
    "model.summary()"
   ]
  },
  {
   "cell_type": "markdown",
   "metadata": {},
   "source": [
    "# Train"
   ]
  },
  {
   "cell_type": "code",
   "execution_count": 11,
   "metadata": {
    "scrolled": true
   },
   "outputs": [
    {
     "name": "stdout",
     "output_type": "stream",
     "text": [
      "Epoch 1/50\n"
     ]
    },
    {
     "name": "stderr",
     "output_type": "stream",
     "text": [
      "/var/folders/wl/5h8ygnjj29ndbpccd4zxqbfh0000gn/T/ipykernel_23887/3027296455.py:3: UserWarning: `Model.fit_generator` is deprecated and will be removed in a future version. Please use `Model.fit`, which supports generators.\n",
      "  model.fit_generator(\n"
     ]
    },
    {
     "name": "stdout",
     "output_type": "stream",
     "text": [
      "49/50 [============================>.] - ETA: 0s - loss: 0.3773 - acc: 0.8106\n",
      "Epoch 1: val_acc improved from -inf to 0.91000, saving model to models/2024_01_03_14_14_47.h5\n",
      "50/50 [==============================] - 1s 6ms/step - loss: 0.3751 - acc: 0.8112 - val_loss: 0.2543 - val_acc: 0.9100 - lr: 0.0010\n",
      "Epoch 2/50\n",
      "46/50 [==========================>...] - ETA: 0s - loss: 0.1467 - acc: 0.9477"
     ]
    },
    {
     "name": "stderr",
     "output_type": "stream",
     "text": [
      "/Users/shinjongsoo/anaconda3/lib/python3.11/site-packages/keras/src/engine/training.py:3103: UserWarning: You are saving your model as an HDF5 file via `model.save()`. This file format is considered legacy. We recommend using instead the native Keras format, e.g. `model.save('my_model.keras')`.\n",
      "  saving_api.save_model(\n"
     ]
    },
    {
     "name": "stdout",
     "output_type": "stream",
     "text": [
      "\n",
      "Epoch 2: val_acc improved from 0.91000 to 0.96500, saving model to models/2024_01_03_14_14_47.h5\n",
      "50/50 [==============================] - 0s 4ms/step - loss: 0.1438 - acc: 0.9500 - val_loss: 0.1042 - val_acc: 0.9650 - lr: 0.0010\n",
      "Epoch 3/50\n",
      "50/50 [==============================] - ETA: 0s - loss: 0.1204 - acc: 0.9588\n",
      "Epoch 3: val_acc did not improve from 0.96500\n",
      "50/50 [==============================] - 0s 5ms/step - loss: 0.1204 - acc: 0.9588 - val_loss: 0.1626 - val_acc: 0.9375 - lr: 0.0010\n",
      "Epoch 4/50\n",
      "44/50 [=========================>....] - ETA: 0s - loss: 0.1053 - acc: 0.9673\n",
      "Epoch 4: val_acc improved from 0.96500 to 0.99000, saving model to models/2024_01_03_14_14_47.h5\n",
      "50/50 [==============================] - 0s 6ms/step - loss: 0.1012 - acc: 0.9675 - val_loss: 0.0396 - val_acc: 0.9900 - lr: 0.0010\n",
      "Epoch 5/50\n",
      "48/50 [===========================>..] - ETA: 0s - loss: 0.0772 - acc: 0.9753\n",
      "Epoch 5: val_acc did not improve from 0.99000\n",
      "50/50 [==============================] - 0s 5ms/step - loss: 0.0762 - acc: 0.9756 - val_loss: 0.0425 - val_acc: 0.9900 - lr: 0.0010\n",
      "Epoch 6/50\n",
      "46/50 [==========================>...] - ETA: 0s - loss: 0.0689 - acc: 0.9796\n",
      "Epoch 6: val_acc improved from 0.99000 to 0.99500, saving model to models/2024_01_03_14_14_47.h5\n",
      "50/50 [==============================] - 0s 6ms/step - loss: 0.0690 - acc: 0.9794 - val_loss: 0.0161 - val_acc: 0.9950 - lr: 0.0010\n",
      "Epoch 7/50\n",
      "44/50 [=========================>....] - ETA: 0s - loss: 0.0680 - acc: 0.9773\n",
      "Epoch 7: val_acc did not improve from 0.99500\n",
      "50/50 [==============================] - 0s 5ms/step - loss: 0.0668 - acc: 0.9775 - val_loss: 0.0254 - val_acc: 0.9925 - lr: 0.0010\n",
      "Epoch 8/50\n",
      "46/50 [==========================>...] - ETA: 0s - loss: 0.0812 - acc: 0.9762\n",
      "Epoch 8: val_acc did not improve from 0.99500\n",
      "50/50 [==============================] - 0s 5ms/step - loss: 0.0837 - acc: 0.9756 - val_loss: 0.0506 - val_acc: 0.9875 - lr: 0.0010\n",
      "Epoch 9/50\n",
      "44/50 [=========================>....] - ETA: 0s - loss: 0.0494 - acc: 0.9865\n",
      "Epoch 9: val_acc did not improve from 0.99500\n",
      "50/50 [==============================] - 0s 6ms/step - loss: 0.0506 - acc: 0.9862 - val_loss: 0.0086 - val_acc: 0.9950 - lr: 0.0010\n",
      "Epoch 10/50\n",
      "43/50 [========================>.....] - ETA: 0s - loss: 0.0556 - acc: 0.9847\n",
      "Epoch 10: val_acc did not improve from 0.99500\n",
      "50/50 [==============================] - 0s 6ms/step - loss: 0.0533 - acc: 0.9844 - val_loss: 0.0186 - val_acc: 0.9925 - lr: 0.0010\n",
      "Epoch 11/50\n",
      "42/50 [========================>.....] - ETA: 0s - loss: 0.0535 - acc: 0.9859\n",
      "Epoch 11: val_acc did not improve from 0.99500\n",
      "50/50 [==============================] - 0s 6ms/step - loss: 0.0482 - acc: 0.9869 - val_loss: 0.0229 - val_acc: 0.9925 - lr: 0.0010\n",
      "Epoch 12/50\n",
      "49/50 [============================>.] - ETA: 0s - loss: 0.0374 - acc: 0.9892\n",
      "Epoch 12: val_acc did not improve from 0.99500\n",
      "50/50 [==============================] - 0s 6ms/step - loss: 0.0371 - acc: 0.9894 - val_loss: 0.0092 - val_acc: 0.9950 - lr: 0.0010\n",
      "Epoch 13/50\n",
      "43/50 [========================>.....] - ETA: 0s - loss: 0.0510 - acc: 0.9847\n",
      "Epoch 13: val_acc did not improve from 0.99500\n",
      "50/50 [==============================] - 0s 6ms/step - loss: 0.0510 - acc: 0.9850 - val_loss: 0.0238 - val_acc: 0.9925 - lr: 0.0010\n",
      "Epoch 14/50\n",
      "44/50 [=========================>....] - ETA: 0s - loss: 0.0283 - acc: 0.9929\n",
      "Epoch 14: val_acc improved from 0.99500 to 1.00000, saving model to models/2024_01_03_14_14_47.h5\n",
      "50/50 [==============================] - 0s 6ms/step - loss: 0.0291 - acc: 0.9931 - val_loss: 0.0031 - val_acc: 1.0000 - lr: 0.0010\n",
      "Epoch 15/50\n",
      "46/50 [==========================>...] - ETA: 0s - loss: 0.0348 - acc: 0.9885\n",
      "Epoch 15: val_acc did not improve from 1.00000\n",
      "50/50 [==============================] - 0s 5ms/step - loss: 0.0332 - acc: 0.9887 - val_loss: 0.0087 - val_acc: 0.9975 - lr: 0.0010\n",
      "Epoch 16/50\n",
      "45/50 [==========================>...] - ETA: 0s - loss: 0.0337 - acc: 0.9924\n",
      "Epoch 16: val_acc did not improve from 1.00000\n",
      "50/50 [==============================] - 0s 5ms/step - loss: 0.0319 - acc: 0.9931 - val_loss: 0.0339 - val_acc: 0.9900 - lr: 0.0010\n",
      "Epoch 17/50\n",
      "49/50 [============================>.] - ETA: 0s - loss: 0.0271 - acc: 0.9904\n",
      "Epoch 17: val_acc did not improve from 1.00000\n",
      "50/50 [==============================] - 0s 5ms/step - loss: 0.0268 - acc: 0.9906 - val_loss: 0.0023 - val_acc: 1.0000 - lr: 0.0010\n",
      "Epoch 18/50\n",
      "42/50 [========================>.....] - ETA: 0s - loss: 0.0282 - acc: 0.9911\n",
      "Epoch 18: val_acc did not improve from 1.00000\n",
      "50/50 [==============================] - 0s 6ms/step - loss: 0.0240 - acc: 0.9925 - val_loss: 0.0023 - val_acc: 1.0000 - lr: 0.0010\n",
      "Epoch 19/50\n",
      "43/50 [========================>.....] - ETA: 0s - loss: 0.0250 - acc: 0.9927\n",
      "Epoch 19: val_acc did not improve from 1.00000\n",
      "50/50 [==============================] - 0s 5ms/step - loss: 0.0236 - acc: 0.9931 - val_loss: 0.0092 - val_acc: 0.9975 - lr: 0.0010\n",
      "Epoch 20/50\n",
      "44/50 [=========================>....] - ETA: 0s - loss: 0.0324 - acc: 0.9879\n",
      "Epoch 20: val_acc did not improve from 1.00000\n",
      "50/50 [==============================] - 0s 6ms/step - loss: 0.0307 - acc: 0.9887 - val_loss: 0.0030 - val_acc: 1.0000 - lr: 0.0010\n",
      "Epoch 21/50\n",
      "43/50 [========================>.....] - ETA: 0s - loss: 0.0260 - acc: 0.9942\n",
      "Epoch 21: val_acc did not improve from 1.00000\n",
      "50/50 [==============================] - 0s 6ms/step - loss: 0.0244 - acc: 0.9944 - val_loss: 0.0074 - val_acc: 0.9975 - lr: 0.0010\n",
      "Epoch 22/50\n",
      "43/50 [========================>.....] - ETA: 0s - loss: 0.0231 - acc: 0.9935\n",
      "Epoch 22: val_acc did not improve from 1.00000\n",
      "50/50 [==============================] - 0s 6ms/step - loss: 0.0218 - acc: 0.9937 - val_loss: 0.0028 - val_acc: 1.0000 - lr: 0.0010\n",
      "Epoch 23/50\n",
      "48/50 [===========================>..] - ETA: 0s - loss: 0.0233 - acc: 0.9941\n",
      "Epoch 23: val_acc did not improve from 1.00000\n",
      "50/50 [==============================] - 0s 6ms/step - loss: 0.0231 - acc: 0.9937 - val_loss: 0.0064 - val_acc: 0.9975 - lr: 0.0010\n",
      "Epoch 24/50\n",
      "44/50 [=========================>....] - ETA: 0s - loss: 0.0353 - acc: 0.9893\n",
      "Epoch 24: val_acc did not improve from 1.00000\n",
      "\n",
      "Epoch 24: ReduceLROnPlateau reducing learning rate to 0.00020000000949949026.\n",
      "50/50 [==============================] - 0s 6ms/step - loss: 0.0375 - acc: 0.9881 - val_loss: 0.0021 - val_acc: 1.0000 - lr: 0.0010\n",
      "Epoch 25/50\n",
      "44/50 [=========================>....] - ETA: 0s - loss: 0.0226 - acc: 0.9936\n",
      "Epoch 25: val_acc did not improve from 1.00000\n",
      "50/50 [==============================] - 0s 6ms/step - loss: 0.0222 - acc: 0.9937 - val_loss: 0.0070 - val_acc: 0.9975 - lr: 2.0000e-04\n",
      "Epoch 26/50\n",
      "43/50 [========================>.....] - ETA: 0s - loss: 0.0139 - acc: 0.9985\n",
      "Epoch 26: val_acc did not improve from 1.00000\n",
      "50/50 [==============================] - 0s 6ms/step - loss: 0.0130 - acc: 0.9981 - val_loss: 0.0048 - val_acc: 0.9975 - lr: 2.0000e-04\n",
      "Epoch 27/50\n",
      "44/50 [=========================>....] - ETA: 0s - loss: 0.0169 - acc: 0.9950\n",
      "Epoch 27: val_acc did not improve from 1.00000\n",
      "50/50 [==============================] - 0s 5ms/step - loss: 0.0160 - acc: 0.9956 - val_loss: 0.0057 - val_acc: 0.9975 - lr: 2.0000e-04\n",
      "Epoch 28/50\n",
      "44/50 [=========================>....] - ETA: 0s - loss: 0.0172 - acc: 0.9950\n",
      "Epoch 28: val_acc did not improve from 1.00000\n",
      "50/50 [==============================] - 0s 6ms/step - loss: 0.0159 - acc: 0.9956 - val_loss: 0.0049 - val_acc: 0.9975 - lr: 2.0000e-04\n",
      "Epoch 29/50\n",
      "49/50 [============================>.] - ETA: 0s - loss: 0.0193 - acc: 0.9955\n",
      "Epoch 29: val_acc did not improve from 1.00000\n",
      "50/50 [==============================] - 0s 6ms/step - loss: 0.0190 - acc: 0.9956 - val_loss: 0.0041 - val_acc: 0.9975 - lr: 2.0000e-04\n",
      "Epoch 30/50\n",
      "48/50 [===========================>..] - ETA: 0s - loss: 0.0133 - acc: 0.9974\n",
      "Epoch 30: val_acc did not improve from 1.00000\n",
      "50/50 [==============================] - 0s 6ms/step - loss: 0.0129 - acc: 0.9975 - val_loss: 0.0047 - val_acc: 0.9975 - lr: 2.0000e-04\n",
      "Epoch 31/50\n",
      "45/50 [==========================>...] - ETA: 0s - loss: 0.0143 - acc: 0.9965\n",
      "Epoch 31: val_acc did not improve from 1.00000\n",
      "50/50 [==============================] - 0s 6ms/step - loss: 0.0131 - acc: 0.9969 - val_loss: 0.0012 - val_acc: 1.0000 - lr: 2.0000e-04\n",
      "Epoch 32/50\n",
      "45/50 [==========================>...] - ETA: 0s - loss: 0.0130 - acc: 0.9951 \n",
      "Epoch 32: val_acc did not improve from 1.00000\n",
      "50/50 [==============================] - 0s 5ms/step - loss: 0.0138 - acc: 0.9950 - val_loss: 0.0050 - val_acc: 0.9975 - lr: 2.0000e-04\n",
      "Epoch 33/50\n",
      "47/50 [===========================>..] - ETA: 0s - loss: 0.0117 - acc: 0.9967\n",
      "Epoch 33: val_acc did not improve from 1.00000\n",
      "50/50 [==============================] - 0s 5ms/step - loss: 0.0113 - acc: 0.9969 - val_loss: 0.0081 - val_acc: 0.9975 - lr: 2.0000e-04\n",
      "Epoch 34/50\n",
      "47/50 [===========================>..] - ETA: 0s - loss: 0.0163 - acc: 0.9960\n",
      "Epoch 34: val_acc did not improve from 1.00000\n",
      "\n",
      "Epoch 34: ReduceLROnPlateau reducing learning rate to 4.0000001899898055e-05.\n",
      "50/50 [==============================] - 0s 5ms/step - loss: 0.0155 - acc: 0.9962 - val_loss: 0.0031 - val_acc: 0.9975 - lr: 2.0000e-04\n",
      "Epoch 35/50\n",
      "43/50 [========================>.....] - ETA: 0s - loss: 0.0133 - acc: 0.9956\n",
      "Epoch 35: val_acc did not improve from 1.00000\n",
      "50/50 [==============================] - 0s 6ms/step - loss: 0.0120 - acc: 0.9962 - val_loss: 0.0033 - val_acc: 0.9975 - lr: 4.0000e-05\n",
      "Epoch 36/50\n",
      "46/50 [==========================>...] - ETA: 0s - loss: 0.0132 - acc: 0.9973 \n",
      "Epoch 36: val_acc did not improve from 1.00000\n",
      "50/50 [==============================] - 0s 5ms/step - loss: 0.0158 - acc: 0.9962 - val_loss: 0.0038 - val_acc: 0.9975 - lr: 4.0000e-05\n",
      "Epoch 37/50\n",
      "45/50 [==========================>...] - ETA: 0s - loss: 0.0121 - acc: 0.9979 \n",
      "Epoch 37: val_acc did not improve from 1.00000\n",
      "50/50 [==============================] - 0s 5ms/step - loss: 0.0114 - acc: 0.9981 - val_loss: 0.0047 - val_acc: 0.9975 - lr: 4.0000e-05\n",
      "Epoch 38/50\n",
      "46/50 [==========================>...] - ETA: 0s - loss: 0.0112 - acc: 0.9966\n",
      "Epoch 38: val_acc did not improve from 1.00000\n",
      "50/50 [==============================] - 0s 5ms/step - loss: 0.0104 - acc: 0.9969 - val_loss: 0.0030 - val_acc: 0.9975 - lr: 4.0000e-05\n",
      "Epoch 39/50\n",
      "48/50 [===========================>..] - ETA: 0s - loss: 0.0108 - acc: 0.9974\n",
      "Epoch 39: val_acc did not improve from 1.00000\n",
      "50/50 [==============================] - 0s 6ms/step - loss: 0.0104 - acc: 0.9975 - val_loss: 0.0034 - val_acc: 0.9975 - lr: 4.0000e-05\n",
      "Epoch 40/50\n",
      "42/50 [========================>.....] - ETA: 0s - loss: 0.0101 - acc: 0.9963\n",
      "Epoch 40: val_acc did not improve from 1.00000\n",
      "50/50 [==============================] - 0s 6ms/step - loss: 0.0090 - acc: 0.9969 - val_loss: 0.0029 - val_acc: 0.9975 - lr: 4.0000e-05\n",
      "Epoch 41/50\n",
      "46/50 [==========================>...] - ETA: 0s - loss: 0.0120 - acc: 0.9966\n",
      "Epoch 41: val_acc did not improve from 1.00000\n",
      "50/50 [==============================] - 0s 5ms/step - loss: 0.0117 - acc: 0.9969 - val_loss: 0.0038 - val_acc: 0.9975 - lr: 4.0000e-05\n",
      "Epoch 42/50\n",
      "44/50 [=========================>....] - ETA: 0s - loss: 0.0056 - acc: 0.9986\n",
      "Epoch 42: val_acc did not improve from 1.00000\n",
      "50/50 [==============================] - 0s 6ms/step - loss: 0.0110 - acc: 0.9969 - val_loss: 0.0036 - val_acc: 0.9975 - lr: 4.0000e-05\n",
      "Epoch 43/50\n",
      "45/50 [==========================>...] - ETA: 0s - loss: 0.0078 - acc: 0.9979\n",
      "Epoch 43: val_acc did not improve from 1.00000\n",
      "50/50 [==============================] - 0s 6ms/step - loss: 0.0103 - acc: 0.9969 - val_loss: 0.0031 - val_acc: 0.9975 - lr: 4.0000e-05\n",
      "Epoch 44/50\n",
      "43/50 [========================>.....] - ETA: 0s - loss: 0.0079 - acc: 0.9964\n",
      "Epoch 44: val_acc did not improve from 1.00000\n",
      "\n",
      "Epoch 44: ReduceLROnPlateau reducing learning rate to 1e-05.\n",
      "50/50 [==============================] - 0s 6ms/step - loss: 0.0071 - acc: 0.9969 - val_loss: 0.0024 - val_acc: 0.9975 - lr: 4.0000e-05\n",
      "Epoch 45/50\n",
      "44/50 [=========================>....] - ETA: 0s - loss: 0.0053 - acc: 0.9979 \n",
      "Epoch 45: val_acc did not improve from 1.00000\n",
      "50/50 [==============================] - 0s 6ms/step - loss: 0.0101 - acc: 0.9969 - val_loss: 0.0027 - val_acc: 0.9975 - lr: 1.0000e-05\n",
      "Epoch 46/50\n",
      "49/50 [============================>.] - ETA: 0s - loss: 0.0129 - acc: 0.9962\n",
      "Epoch 46: val_acc did not improve from 1.00000\n",
      "50/50 [==============================] - 0s 6ms/step - loss: 0.0126 - acc: 0.9962 - val_loss: 0.0030 - val_acc: 0.9975 - lr: 1.0000e-05\n",
      "Epoch 47/50\n",
      "49/50 [============================>.] - ETA: 0s - loss: 0.0078 - acc: 0.9987\n",
      "Epoch 47: val_acc did not improve from 1.00000\n",
      "50/50 [==============================] - 0s 6ms/step - loss: 0.0076 - acc: 0.9987 - val_loss: 0.0029 - val_acc: 0.9975 - lr: 1.0000e-05\n",
      "Epoch 48/50\n",
      "41/50 [=======================>......] - ETA: 0s - loss: 0.0119 - acc: 0.9970 \n",
      "Epoch 48: val_acc did not improve from 1.00000\n",
      "50/50 [==============================] - 0s 6ms/step - loss: 0.0111 - acc: 0.9975 - val_loss: 0.0031 - val_acc: 0.9975 - lr: 1.0000e-05\n",
      "Epoch 49/50\n",
      "45/50 [==========================>...] - ETA: 0s - loss: 0.0092 - acc: 0.9965\n",
      "Epoch 49: val_acc did not improve from 1.00000\n",
      "50/50 [==============================] - 0s 5ms/step - loss: 0.0085 - acc: 0.9969 - val_loss: 0.0029 - val_acc: 0.9975 - lr: 1.0000e-05\n",
      "Epoch 50/50\n",
      "47/50 [===========================>..] - ETA: 0s - loss: 0.0075 - acc: 0.9980\n",
      "Epoch 50: val_acc did not improve from 1.00000\n",
      "50/50 [==============================] - 0s 5ms/step - loss: 0.0074 - acc: 0.9981 - val_loss: 0.0029 - val_acc: 0.9975 - lr: 1.0000e-05\n"
     ]
    },
    {
     "data": {
      "text/plain": [
       "<keras.src.callbacks.History at 0x16c890510>"
      ]
     },
     "execution_count": 11,
     "metadata": {},
     "output_type": "execute_result"
    }
   ],
   "source": [
    "start_time = datetime.datetime.now().strftime('%Y_%m_%d_%H_%M_%S')\n",
    "\n",
    "model.fit_generator(\n",
    "    train_generator, epochs=50, validation_data=val_generator,\n",
    "    callbacks=[\n",
    "        ModelCheckpoint('models/%s.h5' % (start_time), monitor='val_acc', save_best_only=True, mode='max', verbose=1),\n",
    "        ReduceLROnPlateau(monitor='val_acc', factor=0.2, patience=10, verbose=1, mode='auto', min_lr=1e-05)\n",
    "    ]\n",
    ")"
   ]
  },
  {
   "cell_type": "markdown",
   "metadata": {},
   "source": [
    "# Confusion Matrix"
   ]
  },
  {
   "cell_type": "code",
   "execution_count": 12,
   "metadata": {},
   "outputs": [
    {
     "name": "stdout",
     "output_type": "stream",
     "text": [
      "13/13 [==============================] - 0s 1ms/step\n",
      "test acc: 1.0\n"
     ]
    },
    {
     "data": {
      "text/plain": [
       "<Axes: >"
      ]
     },
     "execution_count": 12,
     "metadata": {},
     "output_type": "execute_result"
    },
    {
     "data": {
      "image/png": "[encoded data removed]",
      "text/plain": [
       "<Figure size 640x480 with 2 Axes>"
      ]
     },
     "metadata": {},
     "output_type": "display_data"
    }
   ],
   "source": [
    "from sklearn.metrics import accuracy_score, confusion_matrix\n",
    "import seaborn as sns\n",
    "\n",
    "model = load_model('models/%s.h5' % (start_time))\n",
    "\n",
    "y_pred = model.predict(x_val/255.)\n",
    "y_pred_logical = (y_pred > 0.5).astype(int)\n",
    "\n",
    "print ('test acc: %s' % accuracy_score(y_val, y_pred_logical))\n",
    "cm = confusion_matrix(y_val, y_pred_logical)\n",
    "sns.heatmap(cm, annot=True)"
   ]
  }
 ],
 "metadata": {
  "kernelspec": {
   "display_name": "base",
   "language": "python",
   "name": "python3"
  },
  "language_info": {
   "codemirror_mode": {
    "name": "ipython",
    "version": 3
   },
   "file_extension": ".py",
   "mimetype": "text/x-python",
   "name": "python",
   "nbconvert_exporter": "python",
   "pygments_lexer": "ipython3",
   "version": "3.11.5"
  }
 },
 "nbformat": 4,
 "nbformat_minor": 2
}
