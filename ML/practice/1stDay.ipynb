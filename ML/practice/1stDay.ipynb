{
 "cells": [
  {
   "cell_type": "code",
   "execution_count": 2,
   "metadata": {},
   "outputs": [
    {
     "name": "stdout",
     "output_type": "stream",
     "text": [
      "Collecting torch\n",
      "  Obtaining dependency information for torch from https://files.pythonhosted.org/packages/5b/46/3def5bdaae03c21a7662673e6bda1f60a046afce48e0d6319ce4542bca31/torch-2.1.1-cp311-none-macosx_11_0_arm64.whl.metadata\n",
      "  Downloading torch-2.1.1-cp311-none-macosx_11_0_arm64.whl.metadata (25 kB)\n",
      "Requirement already satisfied: filelock in /Users/shinjongsoo/anaconda3/lib/python3.11/site-packages (from torch) (3.9.0)\n",
      "Requirement already satisfied: typing-extensions in /Users/shinjongsoo/anaconda3/lib/python3.11/site-packages (from torch) (4.7.1)\n",
      "Requirement already satisfied: sympy in /Users/shinjongsoo/anaconda3/lib/python3.11/site-packages (from torch) (1.11.1)\n",
      "Requirement already satisfied: networkx in /Users/shinjongsoo/anaconda3/lib/python3.11/site-packages (from torch) (3.1)\n",
      "Requirement already satisfied: jinja2 in /Users/shinjongsoo/anaconda3/lib/python3.11/site-packages (from torch) (3.1.2)\n",
      "Requirement already satisfied: fsspec in /Users/shinjongsoo/anaconda3/lib/python3.11/site-packages (from torch) (2023.4.0)\n",
      "Requirement already satisfied: MarkupSafe>=2.0 in /Users/shinjongsoo/anaconda3/lib/python3.11/site-packages (from jinja2->torch) (2.1.1)\n",
      "Requirement already satisfied: mpmath>=0.19 in /Users/shinjongsoo/anaconda3/lib/python3.11/site-packages (from sympy->torch) (1.3.0)\n",
      "Downloading torch-2.1.1-cp311-none-macosx_11_0_arm64.whl (59.6 MB)\n",
      "\u001b[2K   \u001b[90m━━━━━━━━━━━━━━━━━━━━━━━━━━━━━━━━━━━━━━━━\u001b[0m \u001b[32m59.6/59.6 MB\u001b[0m \u001b[31m45.3 MB/s\u001b[0m eta \u001b[36m0:00:00\u001b[0m00:01\u001b[0m00:01\u001b[0m\n",
      "\u001b[?25hInstalling collected packages: torch\n",
      "Successfully installed torch-2.1.1\n"
     ]
    }
   ],
   "source": [
    "!pip install torch"
   ]
  },
  {
   "cell_type": "code",
   "execution_count": 5,
   "metadata": {},
   "outputs": [],
   "source": [
    "import torch\n",
    "import torch.nn as nn\n",
    "import torch.nn.functional as F # convolution function, pooling function, activation function, dropout function, loss function 등의 기능 제공\n",
    "import torch.optim as optim #optimizer 제공\n",
    "import numpy as np\n",
    "import matplotlib.pyplot as plt\n",
    "plt.rc('font', family='AppleGothic')\n",
    "plt.rcParams['axes.unicode_minus'] = False"
   ]
  },
  {
   "cell_type": "code",
   "execution_count": 6,
   "metadata": {},
   "outputs": [
    {
     "name": "stdout",
     "output_type": "stream",
     "text": [
      "가중치(w): -0.5208, 편향(b): -0.6593\n",
      "에폭 [100/1000], 손실: 1.1940, 가중치(w): 2.0934, 편향(b): 0.1992\n",
      "에폭 [200/1000], 손실: 1.1135, 가중치(w): 2.0518, 편향(b): 0.4758\n",
      "에폭 [300/1000], 손실: 1.0837, 가중치(w): 2.0265, 편향(b): 0.6440\n",
      "에폭 [400/1000], 손실: 1.0727, 가중치(w): 2.0111, 편향(b): 0.7463\n",
      "에폭 [500/1000], 손실: 1.0687, 가중치(w): 2.0017, 편향(b): 0.8084\n",
      "에폭 [600/1000], 손실: 1.0672, 가중치(w): 1.9961, 편향(b): 0.8462\n",
      "에폭 [700/1000], 손실: 1.0666, 가중치(w): 1.9926, 편향(b): 0.8692\n",
      "에폭 [800/1000], 손실: 1.0664, 가중치(w): 1.9905, 편향(b): 0.8832\n",
      "에폭 [900/1000], 손실: 1.0663, 가중치(w): 1.9892, 편향(b): 0.8917\n",
      "에폭 [1000/1000], 손실: 1.0663, 가중치(w): 1.9885, 편향(b): 0.8969\n",
      "최적화된 가중치(w): 1.9885, 최적화된 편향(b): 0.8969\n"
     ]
    },
    {
     "data": {
      "image/png": "[encoded data removed]",
      "text/plain": [
       "<Figure size 640x480 with 1 Axes>"
      ]
     },
     "metadata": {},
     "output_type": "display_data"
    }
   ],
   "source": [
    "# 학습 데이터 생성\n",
    "x = torch.linspace(0, 10, 100).unsqueeze(1)  # 입력 데이터\n",
    "y = 2*x + 1 + torch.randn(100, 1)  # 정답 레이블 (기울기: 2, 절편: 1)\n",
    "\n",
    "# 모델 정의\n",
    "model = nn.Linear(1, 1)  # 선형 모델 (입력 차원: 1, 출력 차원: 1)\n",
    "\n",
    "# 손실 함수 정의\n",
    "criterion = nn.MSELoss()\n",
    "\n",
    "# 옵티마이저 정의\n",
    "optimizer = torch.optim.SGD(model.parameters(), lr=0.01)\n",
    "\n",
    "# 학습\n",
    "num_epochs = 1000  # 에폭 수\n",
    "\n",
    "w = model.weight.item()\n",
    "b = model.bias.item()\n",
    "print(f'가중치(w): {w:.4f}, 편향(b): {b:.4f}')\n",
    "\n",
    "for epoch in range(num_epochs):\n",
    "    # Forward 계산\n",
    "    outputs = model(x)\n",
    "    \n",
    "    # 손실 계산\n",
    "    loss = criterion(outputs, y)\n",
    "    \n",
    "    # Backward 계산 및 경사 하강\n",
    "    optimizer.zero_grad()\n",
    "    loss.backward()\n",
    "    optimizer.step()\n",
    "    \n",
    "    # 중간 결과 출력\n",
    "    if (epoch+1) % 100 == 0:\n",
    "        w = model.weight.item()\n",
    "        b = model.bias.item()\n",
    "        print(f'에폭 [{epoch+1}/{num_epochs}], 손실: {loss.item():.4f}, 가중치(w): {w:.4f}, 편향(b): {b:.4f}')\n",
    "\n",
    "# 최적화된 가중치(w)와 편향(b) 확인\n",
    "w_opt = model.weight.item()\n",
    "b_opt = model.bias.item()\n",
    "print(f'최적화된 가중치(w): {w_opt:.4f}, 최적화된 편향(b): {b_opt:.4f}')\n",
    "\n",
    "# 학습된 모델의 예측 결과 확인\n",
    "predicted = model(x)\n",
    "\n",
    "# 그래프 그리기\n",
    "plt.scatter(x, y, label='실제 데이터')\n",
    "plt.plot(x, predicted.detach().numpy(), color='red', label='예측 결과')\n",
    "plt.xlabel('x')\n",
    "plt.ylabel('y')\n",
    "plt.legend()\n",
    "plt.show()"
   ]
  },
  {
   "cell_type": "code",
   "execution_count": 7,
   "metadata": {},
   "outputs": [
    {
     "name": "stdout",
     "output_type": "stream",
     "text": [
      "tensor([[19, 22],\n",
      "        [43, 50]])\n",
      "134\n",
      "tensor([[ 5, 12],\n",
      "        [21, 32]])\n"
     ]
    }
   ],
   "source": [
    "# 실습\n",
    "\n",
    "data1 = [[1,2],[3,4]]\n",
    "data2 = [[5,6],[7,8]]\n",
    "\n",
    "t1 = torch.tensor(data1)\n",
    "t2 = torch.tensor(data2)\n",
    "\n",
    "tmul = torch.matmul(t1,t2)\n",
    "# tmul = t1.matmul(t2)\n",
    "# tmul = t1 @ t2\n",
    "print(tmul) # 행렬곱\n",
    "\n",
    "print(tmul.sum().item()) # 각 원소의 합\n",
    "\n",
    "mul = torch.mul(t1,t2)\n",
    "# mul = t1 * t2\n",
    "print(mul) # 원소의 곱"
   ]
  },
  {
   "cell_type": "markdown",
   "metadata": {},
   "source": [
    "----\n",
    "# 다중선형회귀"
   ]
  },
  {
   "cell_type": "code",
   "execution_count": 8,
   "metadata": {},
   "outputs": [
    {
     "name": "stdout",
     "output_type": "stream",
     "text": [
      "Epoch    0/1000 w1: 0.294 w2: 0.294 w3: 0.297 b: 0.003 Cost: 29661.800781\n",
      "Epoch  100/1000 w1: 0.674 w2: 0.661 w3: 0.676 b: 0.008 Cost: 1.563634\n",
      "Epoch  200/1000 w1: 0.679 w2: 0.655 w3: 0.677 b: 0.008 Cost: 1.497607\n",
      "Epoch  300/1000 w1: 0.684 w2: 0.649 w3: 0.677 b: 0.008 Cost: 1.435026\n",
      "Epoch  400/1000 w1: 0.689 w2: 0.643 w3: 0.678 b: 0.008 Cost: 1.375730\n",
      "Epoch  500/1000 w1: 0.694 w2: 0.638 w3: 0.678 b: 0.009 Cost: 1.319511\n",
      "Epoch  600/1000 w1: 0.699 w2: 0.633 w3: 0.679 b: 0.009 Cost: 1.266222\n",
      "Epoch  700/1000 w1: 0.704 w2: 0.627 w3: 0.679 b: 0.009 Cost: 1.215696\n",
      "Epoch  800/1000 w1: 0.709 w2: 0.622 w3: 0.679 b: 0.009 Cost: 1.167818\n",
      "Epoch  900/1000 w1: 0.713 w2: 0.617 w3: 0.680 b: 0.009 Cost: 1.122429\n",
      "Epoch 1000/1000 w1: 0.718 w2: 0.613 w3: 0.680 b: 0.009 Cost: 1.079378\n",
      "tensor([[152.4309],\n",
      "        [183.9321],\n",
      "        [180.8576],\n",
      "        [196.9722],\n",
      "        [140.4547]], grad_fn=<AddBackward0>)\n"
     ]
    }
   ],
   "source": [
    "torch.manual_seed(1)  #seed를 고정하여 동일한 난수를 생성하도록 함\n",
    "\n",
    "x1_train = torch.FloatTensor([[73], [93], [89], [96], [73]])\n",
    "x2_train = torch.FloatTensor([[80], [88], [91], [98], [66]])\n",
    "x3_train = torch.FloatTensor([[75], [93], [90], [100], [70]])\n",
    "y_train = torch.FloatTensor([[152], [185], [180], [196], [142]])\n",
    "\n",
    "w1 = torch.zeros(1, requires_grad=True)\n",
    "w2 = torch.zeros(1, requires_grad=True)\n",
    "w3 = torch.zeros(1, requires_grad=True)\n",
    "b = torch.zeros(1, requires_grad=True)\n",
    "\n",
    "# optimizer 설정\n",
    "optimizer = optim.SGD([w1, w2, w3, b], lr=1e-5)\n",
    "\n",
    "nb_epochs = 1000\n",
    "for epoch in range(nb_epochs + 1):\n",
    "\n",
    "    # H(x) 계산\n",
    "    hypothesis = x1_train * w1 + x2_train * w2 + x3_train * w3 + b\n",
    "\n",
    "    # cost 계산\n",
    "    cost = torch.mean((hypothesis - y_train) ** 2)\n",
    "\n",
    "    # cost로 H(x) 개선\n",
    "    optimizer.zero_grad() # 미분한 값들은 누적되는 특징이 있기 때문에 0으로 초기화\n",
    "    cost.backward() # 역전파\n",
    "    optimizer.step() # 역전파시에 계산된 값으로 매개변수 수정\n",
    "\n",
    "    # 100번마다 로그 출력\n",
    "    if epoch % 100 ==0:\n",
    "        print('Epoch {:4d}/{} w1: {:.3f} w2: {:.3f} w3: {:.3f} b: {:.3f} Cost: {:.6f}'.format(\n",
    "            epoch, nb_epochs, w1.item(), w2.item(), w3.item(), b.item(), cost.item()\n",
    "        ))\n",
    "        \n",
    "print(x1_train * w1 + x2_train * w2 + x3_train * w3 + b)"
   ]
  },
  {
   "cell_type": "markdown",
   "metadata": {},
   "source": [
    "----\n",
    "# 다중선형회귀-행렬"
   ]
  },
  {
   "cell_type": "code",
   "execution_count": 13,
   "metadata": {},
   "outputs": [
    {
     "name": "stdout",
     "output_type": "stream",
     "text": [
      "torch.Size([5, 3])\n",
      "torch.Size([5, 1])\n",
      "Epoch    0/1000 hypothesis: tensor([0., 0., 0., 0., 0.]) Cost: 29661.800781\n",
      "Epoch  100/1000 hypothesis: tensor([152.7691, 183.6985, 180.9591, 197.0627, 140.1336]) Cost: 1.563634\n",
      "Epoch  200/1000 hypothesis: tensor([152.7273, 183.7273, 180.9465, 197.0517, 140.1731]) Cost: 1.497607\n",
      "Epoch  300/1000 hypothesis: tensor([152.6866, 183.7554, 180.9343, 197.0409, 140.2116]) Cost: 1.435026\n",
      "Epoch  400/1000 hypothesis: tensor([152.6470, 183.7827, 180.9224, 197.0304, 140.2491]) Cost: 1.375730\n",
      "Epoch  500/1000 hypothesis: tensor([152.6085, 183.8093, 180.9108, 197.0201, 140.2856]) Cost: 1.319511\n",
      "Epoch  600/1000 hypothesis: tensor([152.5711, 183.8352, 180.8996, 197.0101, 140.3211]) Cost: 1.266222\n",
      "Epoch  700/1000 hypothesis: tensor([152.5346, 183.8604, 180.8887, 197.0003, 140.3558]) Cost: 1.215696\n",
      "Epoch  800/1000 hypothesis: tensor([152.4992, 183.8849, 180.8781, 196.9908, 140.3895]) Cost: 1.167818\n",
      "Epoch  900/1000 hypothesis: tensor([152.4647, 183.9087, 180.8677, 196.9814, 140.4223]) Cost: 1.122429\n",
      "Epoch 1000/1000 hypothesis: tensor([152.4312, 183.9319, 180.8577, 196.9723, 140.4543]) Cost: 1.079378\n"
     ]
    }
   ],
   "source": [
    "torch.manual_seed(1)\n",
    "\n",
    "x_train = torch.FloatTensor([[73, 80, 75],\n",
    "                             [93, 88, 93],\n",
    "                             [89, 91, 90],\n",
    "                             [96, 98, 100],\n",
    "                             [73, 66, 70]])\n",
    "y_train = torch.FloatTensor([[152], [185], [180], [196], [142]])\n",
    "\n",
    "print(x_train.shape)\n",
    "print(y_train.shape)\n",
    "\n",
    "# 모델 초기화\n",
    "W = torch.zeros((3, 1), requires_grad=True)\n",
    "b = torch.zeros(1, requires_grad=True)\n",
    "\n",
    "# optimizer 설정\n",
    "optimizer = optim.SGD([W, b], lr=1e-5)\n",
    "\n",
    "\n",
    "nb_epochs = 1000\n",
    "\n",
    "for epoch in range(nb_epochs + 1):\n",
    "\n",
    "    # H(X) 계산\n",
    "    # 편향 b는 브로드캐스팅되어 각 샘플에 더해진다.\n",
    "    hypothesis = x_train.matmul(W) + b\n",
    "\n",
    "    # cost 계산\n",
    "    cost = torch.mean((hypothesis - y_train) ** 2)\n",
    "\n",
    "    # cost로 H(x) 개선\n",
    "    optimizer.zero_grad()\n",
    "    cost.backward()\n",
    "    optimizer.step()\n",
    "\n",
    "    if epoch % 100 ==0:\n",
    "        print('Epoch {:4d}/{} hypothesis: {} Cost: {:.6f}'.format(\n",
    "            epoch, nb_epochs, hypothesis.squeeze().detach(), cost.item()\n",
    "        ))\n",
    "    \n"
   ]
  },
  {
   "cell_type": "markdown",
   "metadata": {},
   "source": [
    "----\n",
    "# 다중선형회귀-class"
   ]
  },
  {
   "cell_type": "code",
   "execution_count": 10,
   "metadata": {},
   "outputs": [
    {
     "name": "stdout",
     "output_type": "stream",
     "text": [
      "Epoch    0/2000 prediction: tensor([-20.5930, -30.8318, -27.2626, -29.8314, -24.8466]) Cost: 39633.414062\n",
      "Epoch  100/2000 prediction: tensor([155.8949, 181.5397, 181.8628, 197.9131, 137.1906]) Cost: 11.480746\n",
      "Epoch  200/2000 prediction: tensor([155.7680, 181.6269, 181.8242, 197.8828, 137.3070]) Cost: 10.894592\n",
      "Epoch  300/2000 prediction: tensor([155.6446, 181.7118, 181.7867, 197.8534, 137.4203]) Cost: 10.339335\n",
      "Epoch  400/2000 prediction: tensor([155.5245, 181.7943, 181.7502, 197.8246, 137.5306]) Cost: 9.813351\n",
      "Epoch  500/2000 prediction: tensor([155.4076, 181.8747, 181.7147, 197.7966, 137.6380]) Cost: 9.315010\n",
      "Epoch  600/2000 prediction: tensor([155.2939, 181.9529, 181.6802, 197.7694, 137.7425]) Cost: 8.842962\n",
      "Epoch  700/2000 prediction: tensor([155.1833, 182.0289, 181.6465, 197.7427, 137.8443]) Cost: 8.395753\n",
      "Epoch  800/2000 prediction: tensor([155.0756, 182.1030, 181.6139, 197.7168, 137.9434]) Cost: 7.972028\n",
      "Epoch  900/2000 prediction: tensor([154.9709, 182.1750, 181.5820, 197.6915, 138.0399]) Cost: 7.570654\n",
      "Epoch 1000/2000 prediction: tensor([154.8689, 182.2451, 181.5511, 197.6668, 138.1338]) Cost: 7.190373\n",
      "Epoch 1100/2000 prediction: tensor([154.7698, 182.3133, 181.5210, 197.6428, 138.2253]) Cost: 6.830142\n",
      "Epoch 1200/2000 prediction: tensor([154.6733, 182.3797, 181.4917, 197.6194, 138.3143]) Cost: 6.488816\n",
      "Epoch 1300/2000 prediction: tensor([154.5794, 182.4443, 181.4633, 197.5965, 138.4010]) Cost: 6.165491\n",
      "Epoch 1400/2000 prediction: tensor([154.4880, 182.5072, 181.4355, 197.5742, 138.4854]) Cost: 5.859103\n",
      "Epoch 1500/2000 prediction: tensor([154.3991, 182.5683, 181.4086, 197.5524, 138.5676]) Cost: 5.568903\n",
      "Epoch 1600/2000 prediction: tensor([154.3126, 182.6279, 181.3824, 197.5312, 138.6476]) Cost: 5.293896\n",
      "Epoch 1700/2000 prediction: tensor([154.2285, 182.6858, 181.3569, 197.5105, 138.7255]) Cost: 5.033403\n",
      "Epoch 1800/2000 prediction: tensor([154.1466, 182.7422, 181.3321, 197.4904, 138.8013]) Cost: 4.786553\n",
      "Epoch 1900/2000 prediction: tensor([154.0669, 182.7970, 181.3080, 197.4707, 138.8752]) Cost: 4.552726\n",
      "Epoch 2000/2000 prediction: tensor([153.9894, 182.8504, 181.2845, 197.4515, 138.9471]) Cost: 4.331128\n",
      "예측 값: 181.41419982910156\n"
     ]
    }
   ],
   "source": [
    "import torch\n",
    "import torch.nn as nn\n",
    "import torch.optim as optim\n",
    "import numpy as np\n",
    "\n",
    "# 데이터셋\n",
    "x_data = torch.tensor([[73, 80, 75],\n",
    "                       [93, 88, 93],\n",
    "                       [89, 91, 90],\n",
    "                       [96, 98, 100],\n",
    "                       [73, 66, 70]], dtype=torch.float32)\n",
    "\n",
    "y_data = torch.tensor([[152],\n",
    "                       [185],\n",
    "                       [180],\n",
    "                       [196],\n",
    "                       [142]], dtype=torch.float32)\n",
    "\n",
    "\n",
    "# 다중 선형 회귀 클래스\n",
    "class MultiLinearRegression(nn.Module):\n",
    "    def __init__(self):\n",
    "        super(MultiLinearRegression, self).__init__()\n",
    "        self.linear = nn.Linear(3, 1) # 입력 3개, 출력 1개\n",
    "\n",
    "    def forward(self, x):\n",
    "        return self.linear(x)\n",
    "\n",
    "\n",
    "model = MultiLinearRegression()\n",
    "\n",
    "# 손실 함수와 옵티마이저\n",
    "loss_fn = nn.MSELoss()  # 평균 제곱 오차\n",
    "optimizer = optim.SGD(model.parameters(), lr=1e-5)\n",
    "\n",
    "# 학습\n",
    "epochs = 2000\n",
    "for epoch in range(epochs + 1):\n",
    "    prediction = model(x_data)\n",
    "\n",
    "    loss = loss_fn(prediction, y_data)\n",
    "\n",
    "    optimizer.zero_grad()\n",
    "    loss.backward()\n",
    "    optimizer.step()\n",
    "\n",
    "    if epoch % 100 ==0:\n",
    "      print('Epoch {:4d}/{} prediction: {} Cost: {:.6f}'.format(\n",
    "          epoch, epochs, prediction.squeeze().detach(), loss.item()\n",
    "      ))\n",
    "\n",
    "# 예측\n",
    "model.eval()\n",
    "x_test = torch.tensor([[90, 88, 93]], dtype=torch.float32)\n",
    "y_test = model(x_test)\n",
    "print(f\"예측 값: {y_test.squeeze().detach()}\")\n",
    "\n"
   ]
  },
  {
   "cell_type": "code",
   "execution_count": 6,
   "metadata": {},
   "outputs": [
    {
     "name": "stdout",
     "output_type": "stream",
     "text": [
      "Epoch    0/100000 w1: 0.100 w2: 0.100 b: 0.100 Cost: 8964.013672\n",
      "Epoch 10000/100000 w1: 13.555 w2: 93.896 b: 4.020 Cost: 1.580652\n",
      "Epoch 20000/100000 w1: 13.556 w2: 93.896 b: 4.020 Cost: 1.580661\n",
      "Epoch 30000/100000 w1: 13.555 w2: 93.896 b: 4.020 Cost: 1.580655\n",
      "Epoch 40000/100000 w1: 13.557 w2: 93.898 b: 4.022 Cost: 1.580671\n",
      "Epoch 50000/100000 w1: 13.555 w2: 93.896 b: 4.020 Cost: 1.580660\n",
      "Epoch 60000/100000 w1: 13.555 w2: 93.896 b: 4.020 Cost: 1.580660\n",
      "Epoch 70000/100000 w1: 13.554 w2: 93.894 b: 4.018 Cost: 1.580676\n",
      "Epoch 80000/100000 w1: 13.555 w2: 93.896 b: 4.020 Cost: 1.580658\n",
      "Epoch 90000/100000 w1: 13.556 w2: 93.897 b: 4.021 Cost: 1.580657\n",
      "Epoch 100000/100000 w1: 13.554 w2: 93.895 b: 4.019 Cost: 1.580671\n",
      "w1: 13.554208755493164, w2: 93.89492797851562, b: 4.018819332122803, cost: 1.5806708335876465\n"
     ]
    }
   ],
   "source": [
    "# 실습2\n",
    "\n",
    "x = [[ 1.76405235,  0.40015721],\n",
    " [ 0.3130677,  -0.85409574],\n",
    " [ 1.86755799, -0.97727788],\n",
    " [ 0.95008842, -0.15135721],\n",
    " [ 0.14404357,  1.45427351],\n",
    " [ 0.76103773,  0.12167502],\n",
    " [ 0.44386323,  0.33367433],\n",
    " [ 0.97873798,  2.2408932 ],\n",
    " [ 1.49407907, -0.20515826],\n",
    " [-0.10321885,  0.4105985 ]]\n",
    "\n",
    "y = [ 63.53688815, -71.72648252, -61.68390971,   1.57941977, 140.99124416, 25.4497451, 40.69691806, 229.37436452,   6.57023041,  42.57804267]\n",
    "\n",
    "x1=torch.tensor(x)\n",
    "y1=torch.tensor(y)\n",
    "\n",
    "w1 = torch.zeros(1, requires_grad=True)\n",
    "w2 = torch.zeros(1, requires_grad=True)\n",
    "b = torch.zeros(1, requires_grad=True)\n",
    "\n",
    "# optimizer 설정\n",
    "optimizer = optim.Adam([w1, w2, b], lr=1e-1)\n",
    "\n",
    "nb_epochs = 100000\n",
    "for epoch in range(nb_epochs + 1):\n",
    "\n",
    "    # H(x) 계산\n",
    "    hypothesis = x1[:,0] * w1 + x1[:,1] * w2 + b\n",
    "\n",
    "    # cost 계산\n",
    "    cost = torch.mean((hypothesis - y1) ** 2)\n",
    "\n",
    "    # cost로 H(x) 개선\n",
    "    optimizer.zero_grad() # 미분한 값들은 누적되는 특징이 있기 때문에 0으로 초기화\n",
    "    cost.backward() # 역전파\n",
    "    optimizer.step() # 역전파시에 계산된 값으로 매개변수 수정\n",
    "\n",
    "    # 100번마다 로그 출력\n",
    "    if epoch % 10000 ==0:\n",
    "        print('Epoch {:4d}/{} w1: {:.3f} w2: {:.3f} b: {:.3f} Cost: {:.6f}'.format(\n",
    "            epoch, nb_epochs, w1.item(), w2.item(), b.item(), cost.item()\n",
    "        ))\n",
    "\n",
    "print(f\"w1: {w1.item()}, w2: {w2.item()}, b: {b.item()}, cost: {cost.item()}\")"
   ]
  },
  {
   "cell_type": "code",
   "execution_count": null,
   "metadata": {},
   "outputs": [],
   "source": []
  },
  {
   "cell_type": "code",
   "execution_count": null,
   "metadata": {},
   "outputs": [],
   "source": []
  }
 ],
 "metadata": {
  "kernelspec": {
   "display_name": "base",
   "language": "python",
   "name": "python3"
  },
  "language_info": {
   "codemirror_mode": {
    "name": "ipython",
    "version": 3
   },
   "file_extension": ".py",
   "mimetype": "text/x-python",
   "name": "python",
   "nbconvert_exporter": "python",
   "pygments_lexer": "ipython3",
   "version": "3.11.5"
  }
 },
 "nbformat": 4,
 "nbformat_minor": 2
}
