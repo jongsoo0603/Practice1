{
 "cells": [
  {
   "cell_type": "markdown",
   "metadata": {},
   "source": [
    "#  \n"
   ]
  },
  {
   "cell_type": "markdown",
   "metadata": {},
   "source": [
    "#  \n"
   ]
  },
  {
   "cell_type": "markdown",
   "metadata": {},
   "source": [
    "#  \n"
   ]
  },
  {
   "cell_type": "markdown",
   "metadata": {},
   "source": [
    "#  \n"
   ]
  },
  {
   "cell_type": "markdown",
   "metadata": {},
   "source": [
    "라이브러리 import\n",
    "=============="
   ]
  },
  {
   "cell_type": "code",
   "execution_count": 12,
   "metadata": {},
   "outputs": [],
   "source": [
    "# pandas : 데이터 가공\n",
    "# image : 이미지 출력\n",
    "# pyplot : 시각화\n",
    "# folium : 지도 이용\n",
    "# seaborn : 시각화\n",
    "\n",
    "import pandas as pd\n",
    "import matplotlib.image as mpimg\n",
    "import matplotlib.pyplot as plt\n",
    "plt.rc('font', family='AppleGothic')\n",
    "plt.rcParams['axes.unicode_minus'] = False\n",
    "import folium\n",
    "from folium.plugins import MarkerCluster\n",
    "import seaborn as sns\n"
   ]
  },
  {
   "cell_type": "markdown",
   "metadata": {},
   "source": [
    "#  \n"
   ]
  },
  {
   "cell_type": "markdown",
   "metadata": {},
   "source": [
    "#  \n"
   ]
  },
  {
   "cell_type": "markdown",
   "metadata": {},
   "source": [
    "#  \n"
   ]
  },
  {
   "cell_type": "markdown",
   "metadata": {},
   "source": [
    "#  \n"
   ]
  },
  {
   "cell_type": "markdown",
   "metadata": {},
   "source": [
    "파싱 해놓은 데이터 가져오기\n",
    "====================="
   ]
  },
  {
   "cell_type": "markdown",
   "metadata": {},
   "source": [
    "#  \n"
   ]
  },
  {
   "cell_type": "markdown",
   "metadata": {},
   "source": [
    "#### 1. 2023년 01 ~ 06월 따릉이 이용 데이터"
   ]
  },
  {
   "cell_type": "code",
   "execution_count": null,
   "metadata": {},
   "outputs": [],
   "source": [
    "bicycle = pd.read_csv('data/bicycle.csv')\n",
    "bicycle"
   ]
  },
  {
   "cell_type": "markdown",
   "metadata": {},
   "source": [
    "-------------"
   ]
  },
  {
   "cell_type": "markdown",
   "metadata": {},
   "source": [
    "#### 2. 2023년 06월 기준 따릉이 대여소 데이터"
   ]
  },
  {
   "cell_type": "code",
   "execution_count": null,
   "metadata": {},
   "outputs": [],
   "source": [
    "rental = pd.read_csv('data/rental.csv')\n",
    "rental.head()"
   ]
  },
  {
   "cell_type": "markdown",
   "metadata": {},
   "source": [
    "-------------"
   ]
  },
  {
   "cell_type": "markdown",
   "metadata": {},
   "source": [
    "#### 3. 2023년 01 ~ 06월 날씨 데이터"
   ]
  },
  {
   "cell_type": "code",
   "execution_count": null,
   "metadata": {},
   "outputs": [],
   "source": [
    "weather = pd.read_csv('data/weather.csv')\n",
    "weather.head()"
   ]
  },
  {
   "cell_type": "markdown",
   "metadata": {},
   "source": [
    "-------------"
   ]
  },
  {
   "cell_type": "markdown",
   "metadata": {},
   "source": [
    "#### 4. 2017년 서울시 연령별 체력 측정 데이터"
   ]
  },
  {
   "cell_type": "code",
   "execution_count": null,
   "metadata": {},
   "outputs": [],
   "source": [
    "strength = pd.read_csv('data/strength.csv')\n",
    "strength.head()"
   ]
  },
  {
   "cell_type": "markdown",
   "metadata": {},
   "source": [
    "------------------"
   ]
  },
  {
   "cell_type": "markdown",
   "metadata": {},
   "source": [
    "#  \n"
   ]
  },
  {
   "cell_type": "markdown",
   "metadata": {},
   "source": [
    "#  \n"
   ]
  },
  {
   "cell_type": "markdown",
   "metadata": {},
   "source": [
    "#  \n"
   ]
  },
  {
   "cell_type": "markdown",
   "metadata": {},
   "source": [
    "#  \n"
   ]
  },
  {
   "cell_type": "markdown",
   "metadata": {},
   "source": [
    "데이터 시각화\n",
    "==========\n"
   ]
  },
  {
   "cell_type": "code",
   "execution_count": null,
   "metadata": {},
   "outputs": [],
   "source": [
    "# 서울시 구 별로 나눠놓은 json파일 받아오기\n",
    "geo_json = 'https://raw.githubusercontent.com/southkorea/seoul-maps/master/kostat/2013/json/seoul_municipalities_geo_simple.json'\n",
    "\n",
    "# 구 목록, 개수 데이터프레임으로 뽑음\n",
    "rentalGoo = rental['자치구'].value_counts().reset_index()\n",
    "\n",
    "# 컬럼 이름 설정\n",
    "rentalGoo.columns = ['자치구', '대여소 개수']\n",
    "\n",
    "# 맵 생성\n",
    "DdaRengEe = folium.Map(\n",
    "    location = [37.566345, 126.977893], zoom_start = 11.5\n",
    ")\n",
    "\n",
    "# 가까운 팝업끼리 묶어놓는 클러스터 추가\n",
    "marker_cluster = MarkerCluster().add_to(DdaRengEe)\n",
    "\n",
    "# 뽑아놓은 데이터를 기반으로 맵에 분류, 색칠\n",
    "folium.Choropleth(\n",
    "    geo_data = geo_json,\n",
    "    name = 'choropleth',\n",
    "    data = rentalGoo,\n",
    "    columns = ['자치구','대여소 개수'],\n",
    "    key_on = 'feature.properties.name',\n",
    "    fill_color = 'YlOrRd',\n",
    "    fill_opacity=0.7,\n",
    "    line_opacity = 0.2,\n",
    ").add_to(DdaRengEe)\n",
    "\n",
    "# 팝업 추가\n",
    "for i in range(len(rental)):\n",
    "    lat = rental.loc[i, '위도']\n",
    "    long = rental.loc[i, '경도']\n",
    "    name = rental.loc[i,'대여소명']\n",
    "    num = rental.loc[i, '대여소번호']\n",
    "    rename = \"\".join(name.split())\n",
    "    link = '<a href = ' + \"https://map.naver.com/p/search/\" + rename + \"대여소\" +' target=_blink>' + name + ' 네이버 플레이스</a>'\n",
    "    icon = folium.Icon(color = \"green\", icon = \"fa-solid fa-bicycle\", prefix = 'fa-solid')\n",
    "    folium.Marker(location = [lat, long]\n",
    "                  , tooltip = name\n",
    "                  , popup = folium.Popup(link, max_width=650)\n",
    "                  , icon = icon).add_to(marker_cluster)    \n",
    "\n",
    "DdaRengEe"
   ]
  },
  {
   "cell_type": "markdown",
   "metadata": {},
   "source": [
    "#  \n"
   ]
  },
  {
   "cell_type": "markdown",
   "metadata": {},
   "source": [
    "#  \n"
   ]
  },
  {
   "cell_type": "markdown",
   "metadata": {},
   "source": [
    "#  \n"
   ]
  },
  {
   "cell_type": "markdown",
   "metadata": {},
   "source": [
    "데이터 분석 및 결론 도출\n",
    "================="
   ]
  },
  {
   "cell_type": "markdown",
   "metadata": {},
   "source": [
    "#  \n"
   ]
  },
  {
   "cell_type": "markdown",
   "metadata": {},
   "source": [
    "### 1. 따릉이 이용률과 기온은 연관이 있을까?\n",
    "(비교 데이터 : 따릉이 이용 데이터 <-> 날씨 데이터) "
   ]
  },
  {
   "cell_type": "code",
   "execution_count": null,
   "metadata": {},
   "outputs": [],
   "source": [
    "month = [1, 2, 3, 4, 5, 6]\n",
    "plt.figure(figsize=(20, 10))\n",
    "\n",
    "# 첫 번째 그래프\n",
    "ax1 = plt.subplot(1, 2, 1)\n",
    "ax1.plot(bicycle['month'].value_counts().loc[month].index, bicycle['month'].value_counts().loc[month].values, label = '대여량( X 1,000,000 회)', ls = '--', c = 'C9', marker = 'o', linewidth = 2)\n",
    "ax1.grid(alpha=0.5)\n",
    "ax1.legend(fontsize=15, loc=[0.01, 0.93])\n",
    "ax1.set_xlabel('월', size=15)\n",
    "ax1.set_ylabel('대여 횟수', size=15, rotation=0)\n",
    "ax1.set_title('2023년 상반기 월별 따릉이 대여 횟수, 월 평균 기온', size=20)\n",
    "\n",
    "# 두 번째 그래프 (오른쪽 y축)\n",
    "ax2 = ax1.twinx()\n",
    "ax2.plot(weather.groupby('month')['avgTa'].mean().index, weather.groupby('month')['avgTa'].mean().values, label = '평균 기온(°C)', ls = '-.', c = 'C4', marker = '^', linewidth = 2)\n",
    "ax2.legend(fontsize=15, loc=[0.01, 0.87])\n",
    "ax2.set_ylabel('기온', size=15, rotation=0)\n",
    "\n",
    "plt.show()\n"
   ]
  },
  {
   "cell_type": "markdown",
   "metadata": {},
   "source": [
    ">결론 : \n",
    ">   >월 별 이용률 그래프와 월 평균 기온 그래프가 비슷함 \n",
    ">   >   >이용률과 기온은 비례한 관계가 성립한다는 결론 도출"
   ]
  },
  {
   "cell_type": "markdown",
   "metadata": {},
   "source": [
    "--------------------------"
   ]
  },
  {
   "cell_type": "markdown",
   "metadata": {},
   "source": [
    "#  \n"
   ]
  },
  {
   "cell_type": "markdown",
   "metadata": {},
   "source": [
    "### 2. 따릉이 이용률과 강수량 또는 풍속은 연관이 있을까?\n",
    "(비교 데이터 : 따릉이 이용 데이터 <-> 날씨 데이터)"
   ]
  },
  {
   "cell_type": "code",
   "execution_count": null,
   "metadata": {},
   "outputs": [],
   "source": [
    "def plot_bicycle_rentals(month, rainy_days):\n",
    "    plt.plot(\n",
    "        bicycle[bicycle['month'] == month]['day'].value_counts().sort_index().index,\n",
    "        bicycle[bicycle['month'] == month]['day'].value_counts().sort_index().values,\n",
    "        label='대여량(회)',\n",
    "        ls='--',\n",
    "        c='C9',\n",
    "        marker='o'\n",
    "    )\n",
    "    plt.grid(alpha=0.5)\n",
    "    plt.legend(fontsize=15)\n",
    "    plt.xlabel('일', size=15)\n",
    "    plt.ylabel('대여 횟수', size=15, rotation=0)\n",
    "    plt.title(f'2023년 {month}월 일 별 따릉이 대여 횟수', size=20)\n",
    "    plt.xticks(rainy_days, color='red')\n",
    "\n",
    "def plot_weather_data(month, y_data, label, linestyle, color, marker, y_label, title):\n",
    "    plt.plot(weather[weather['month'] == month]['day'].values, y_data, label=label, ls=linestyle, c=color, marker=marker)\n",
    "    plt.grid(alpha=0.5)\n",
    "    plt.legend(fontsize=15)\n",
    "    plt.xlabel('일', size=15)\n",
    "    plt.ylabel(y_label, size=15, rotation=0)\n",
    "    plt.title(title, size=20)\n",
    "    plt.xticks(rainy_days, color='red')\n",
    "\n",
    "plt.figure(figsize=(20, 12))\n",
    "\n",
    "rainy_days = [11, 14, 21, 26, 29]\n",
    "month = 6\n",
    "\n",
    "# Plot 1\n",
    "plt.subplot(2, 2, 1)\n",
    "plot_bicycle_rentals(month, rainy_days)\n",
    "\n",
    "# Plot 2\n",
    "plt.subplot(2, 2, 2)\n",
    "plot_weather_data(month, weather[weather['month'] == month]['sumRn'].values, '일 강수량(mm)', '-.', 'C4', '^', '강수량', f'2023년 {month}월 일 강수량')\n",
    "\n",
    "# Plot 3\n",
    "# plt.subplot(2, 2, 3)\n",
    "# plot_bicycle_rentals(month, rainy_days)\n",
    "\n",
    "# Plot 4\n",
    "plt.subplot(2, 2, 4)\n",
    "plot_weather_data(month, weather[weather['month'] == month]['avgWs'].values, '평균 풍속(m/s)', '-.', 'C4', '^', '풍속', f'2023년 {month}월 일 평균 풍속')\n",
    "\n",
    "plt.show()\n"
   ]
  },
  {
   "cell_type": "markdown",
   "metadata": {},
   "source": [
    ">결론 :\n",
    ">   >따릉이 이용률이 급격히 하락했던 11, 14, 21, 26, 29일에 정확히 강수량이 높았음  \n",
    ">   >따릉이 이용률이 급격히 하락할 때 풍속이 느리기도(18일), 빠르기도(26일) 했음\n",
    ">   >   >이용률과 강수량은 반비례한 관계가 성립한다는 결론 도출  \n",
    ">   >   >이용률과 풍속, 심지어 강수량과 풍속 또한 연관성을 찾기 힘들다는 결과 도출"
   ]
  },
  {
   "cell_type": "markdown",
   "metadata": {},
   "source": [
    "-------------------------"
   ]
  },
  {
   "cell_type": "markdown",
   "metadata": {},
   "source": [
    "#  \n"
   ]
  },
  {
   "cell_type": "markdown",
   "metadata": {},
   "source": [
    "### 3. 따릉이 이용률과 자치구 별 대여소 개수가 연관이 있을까?\n",
    "(비교 데이터 : 따릉이 이용 데이터 <-> 따릉이 대여소 데이터)"
   ]
  },
  {
   "cell_type": "code",
   "execution_count": null,
   "metadata": {},
   "outputs": [],
   "source": [
    "# value_counts()의 인덱스를 리스트로\n",
    "bList = bicycle['자치구'].value_counts().index.tolist()\n",
    "rList = rental['자치구'].value_counts().index.tolist()\n",
    "\n",
    "# 컬러맵 설정\n",
    "b_colors = list(reversed(sns.color_palette(\"mako\", n_colors=len(bList))))\n",
    "r_colors = list(reversed(sns.color_palette(\"inferno\", n_colors=len(rList))))\n",
    "\n",
    "plt.figure(figsize=(20, 10))\n",
    "\n",
    "# 따릉이 데이터\n",
    "plt.subplot(2, 1, 1)\n",
    "plt.bar(bList, bicycle['자치구'].value_counts().values, color=b_colors)\n",
    "plt.title('2023년 상반기 자치구별 따릉이 대여 수', fontsize=20)\n",
    "plt.xlabel('자치구', fontsize=13)\n",
    "plt.ylabel('대여량', rotation=0, fontsize=13)\n",
    "plt.xticks(rotation=45)\n",
    "\n",
    "# 대여소 데이터\n",
    "plt.subplot(2, 1, 2)\n",
    "plt.bar(rList, rental['자치구'].value_counts().values, color=r_colors)\n",
    "plt.title('2023년 6월 기준 자치구별 대여소 수', fontsize=20)\n",
    "plt.xlabel('자치구', fontsize=13)\n",
    "plt.ylabel('대여소 개수', rotation=0, fontsize=13)\n",
    "plt.xticks(rotation=45)\n",
    "\n",
    "plt.tight_layout()\n",
    "plt.show()\n"
   ]
  },
  {
   "cell_type": "markdown",
   "metadata": {},
   "source": [
    ">결론 :\n",
    ">   >대여 수 상위 2개 구(송파, 강서)와 대여소 수 상위 2개 구(송파, 강서)가 동일  \n",
    ">   >대여 수 하위 3개 구(강북, 금천, 동작)와 대여소 수 하위 3개 구(강북, 동작, 금천)가 동일  \n",
    ">   >   >조금 씩 차이가 나는 구가 있지만 대부분 대여수가 많을 수록 대여소도 많음  \n",
    ">   >   >   >자치구 별 따릉이 이용률과 대여소 수는 비례한 관계가 성립한다는 결과 도출\n"
   ]
  },
  {
   "cell_type": "markdown",
   "metadata": {},
   "source": [
    "#  \n"
   ]
  },
  {
   "cell_type": "markdown",
   "metadata": {},
   "source": [
    "### 4. 따릉이 이용시 운동량과 연령대는 연관이 있을까??\n",
    "(비교 데이터 : 따릉이 이용 데이터 <-> 연령별 체력측정 데이터)"
   ]
  },
  {
   "cell_type": "code",
   "execution_count": null,
   "metadata": {},
   "outputs": [],
   "source": [
    "\n",
    "# '성별'이 'M'이고 각 '연령대'별 '운동량'의 평균값 계산\n",
    "male = bicycle[bicycle['성별'] == 'M'].groupby('연령대')['운동량'].mean()\n",
    "female = bicycle[bicycle['성별'] == 'F'].groupby('연령대')['운동량'].mean()\n",
    "\n",
    "# '연령대' 열의 순서를 정의\n",
    "age_order = ['20대', '30대', '40대', '50대', '60대', '70대이상']\n",
    "\n",
    "# '연령대' 순서대로 정렬\n",
    "male = male.reindex(age_order)\n",
    "female = female.reindex(age_order)\n",
    "\n",
    "# 그래프 작성\n",
    "fig, axs = plt.subplots(1, 2, figsize=(20, 10))\n",
    "\n",
    "# 첫 번째 서브플롯\n",
    "axs[0].plot(male.index, male.values, label=\"남성\", marker='o', color='skyblue', linestyle='-.', linewidth=2, markersize=8)\n",
    "axs[0].plot(female.index, female.values, label=\"여성\", marker='^', color='lightcoral', linestyle='--', linewidth=2, markersize=8)\n",
    "axs[0].legend(fontsize=15)\n",
    "axs[0].grid(alpha=0.5)\n",
    "axs[0].set_xlabel('연령대', fontsize=13)\n",
    "axs[0].set_ylabel('운동량 평균', rotation=0, fontsize=13)\n",
    "axs[0].set_title('따릉이 이용 시 연령대별 운동량 평균', fontsize=20)\n",
    "axs[0].grid(alpha=0.5)\n",
    "\n",
    "# 두 번째 서브플롯\n",
    "axs[1].plot(strength.iloc[0, 3:12].index, strength.iloc[0, 3:12].values, label=\"남성\", marker='o', color='skyblue', linestyle='-.', linewidth=2, markersize=8)\n",
    "axs[1].plot(strength.iloc[1, 4:12].index, strength.iloc[1, 4:12].values, label=\"여성\", marker='^', color='lightcoral', linestyle='--', linewidth=2, markersize=8)\n",
    "axs[1].grid(alpha=0.5)\n",
    "axs[1].set_xlabel('연령대')\n",
    "axs[1].set_ylabel('20m왕복오래달리기(회)')\n",
    "axs[1].legend(fontsize=15)\n",
    "axs[1].set_title('2017년 서울시 연령대별 체력 측정 평균', fontsize=20)\n",
    "\n",
    "\n",
    "\n",
    "plt.show()"
   ]
  },
  {
   "cell_type": "markdown",
   "metadata": {},
   "source": [
    ">결론 :\n",
    ">   >따릉이와 체력측정 데이터 모두 연령대가 높아질 수록 운동량과 달리기 횟수가 줄어듬\n",
    ">   >   >연령대가 높아질 수록 운동 수행 능력이 떨어지기 때문에 따릉이 운행거리가 줄어든다는 결론을 도출"
   ]
  }
 ],
 "metadata": {
  "kernelspec": {
   "display_name": "Python 3 (ipykernel)",
   "language": "python",
   "name": "python3"
  },
  "language_info": {
   "codemirror_mode": {
    "name": "ipython",
    "version": 3
   },
   "file_extension": ".py",
   "mimetype": "text/x-python",
   "name": "python",
   "nbconvert_exporter": "python",
   "pygments_lexer": "ipython3",
   "version": "3.11.5"
  }
 },
 "nbformat": 4,
 "nbformat_minor": 2
}
